{
 "cells": [
  {
   "cell_type": "markdown",
   "metadata": {},
   "source": [
    "# 1️⃣ Desafio Classificador de nível de Herói\n",
    "\n",
    "**O Que deve ser utilizado**\n",
    "\n",
    "- Variáveis\n",
    "- Operadores\n",
    "- Laços de repetição\n",
    "- Estruturas de decisões\n",
    "\n",
    "### Objetivo\n",
    "\n",
    "Crie uma variável para armazenar o nome e a quantidade de experiência (XP) de um herói, depois utilize uma estrutura de decisão para apresentar alguma das mensagens abaixo:\n",
    "\n",
    "Se XP for menor do que 1.000 = Ferro\n",
    "\n",
    "Se XP for entre 1.001 e 2.000 = Bronze\n",
    "\n",
    "Se XP for entre 2.001 e 5.000 = Prata\n",
    "\n",
    "Se XP for entre 5.001 e 7.000 = Ouro\n",
    "\n",
    "Se XP for entre 7.001 e 8.000 = Platina\n",
    "\n",
    "Se XP for entre 8.001 e 9.000 = Ascendente\n",
    "\n",
    "Se XP for entre 9.001 e 10.000= Imortal\n",
    "\n",
    "Se XP for maior ou igual a 10.001 = Radiante\n",
    "\n",
    "### Saída\n",
    "\n",
    "Ao final deve se exibir uma mensagem:\n",
    "\"O Herói de nome **{nome}** está no nível de **{nivel}**\"\n",
    "\n",
    " \n",
    " \n",
    " \n",
    "Bons estudos 😉"
   ]
  }
 ],
 "metadata": {
  "kernelspec": {
   "display_name": "Python 3",
   "language": "python",
   "name": "python3"
  },
  "language_info": {
   "codemirror_mode": {
    "name": "ipython",
    "version": 3
   },
   "file_extension": ".py",
   "mimetype": "text/x-python",
   "name": "python",
   "nbconvert_exporter": "python",
   "pygments_lexer": "ipython3",
   "version": "3.12.0"
  }
 },
 "nbformat": 4,
 "nbformat_minor": 2
}
