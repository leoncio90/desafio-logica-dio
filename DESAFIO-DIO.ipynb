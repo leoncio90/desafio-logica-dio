{
 "cells": [
  {
   "cell_type": "markdown",
   "metadata": {},
   "source": [
    "# 1️⃣ Desafio Classificador de nível de Herói\n",
    "\n",
    "**O Que deve ser utilizado**\n",
    "\n",
    "- Variáveis\n",
    "- Operadores\n",
    "- Laços de repetição\n",
    "- Estruturas de decisões\n",
    "\n",
    "### Objetivo\n",
    "\n",
    "Crie uma variável para armazenar o nome e a quantidade de experiência (XP) de um herói, depois utilize uma estrutura de decisão para apresentar alguma das mensagens abaixo:\n",
    "\n",
    "Se XP for menor do que 1.000 = Ferro\n",
    "\n",
    "Se XP for entre 1.001 e 2.000 = Bronze\n",
    "\n",
    "Se XP for entre 2.001 e 5.000 = Prata\n",
    "\n",
    "Se XP for entre 5.001 e 7.000 = Ouro\n",
    "\n",
    "Se XP for entre 7.001 e 8.000 = Platina\n",
    "\n",
    "Se XP for entre 8.001 e 9.000 = Ascendente\n",
    "\n",
    "Se XP for entre 9.001 e 10.000= Imortal\n",
    "\n",
    "Se XP for maior ou igual a 10.001 = Radiante\n",
    "\n",
    "### Saída\n",
    "\n",
    "Ao final deve se exibir uma mensagem:\n",
    "\"O Herói de nome **{nome}** está no nível de **{nivel}**\"\n",
    "\n",
    " \n",
    " \n",
    " \n",
    "Bons estudos 😉"
   ]
  },
  {
   "cell_type": "code",
   "execution_count": 25,
   "metadata": {},
   "outputs": [
    {
     "name": "stdout",
     "output_type": "stream",
     "text": [
      "O herói Jhonata possui 8765 pontos de experiência e está no nível Ascendente!\n"
     ]
    }
   ],
   "source": [
    "HeroName = str(input('Digite o nome do Herói:'))\n",
    "HeroXp = int(input('Digite a quantidade de XP do Herói:'))\n",
    "\n",
    "\n",
    "\n",
    "if HeroXp <= 1000:\n",
    "  HeroLevel = 'Ferro'\n",
    "  \n",
    "elif HeroXp > 1000 and HeroXp <= 2000:\n",
    "  HeroLevel = 'Bronze'\n",
    "\n",
    "elif HeroXp > 2000 and HeroXp <= 5000:\n",
    "  HeroLevel = 'Prata'\n",
    "  \n",
    "elif HeroXp > 5000 and HeroXp <= 7000:\n",
    "  HeroLevel = 'ouro'\n",
    "  \n",
    "elif HeroXp > 7000 and HeroXp <= 8000:\n",
    "  HeroLevel = 'Platina'\n",
    "  \n",
    "elif HeroXp > 8000 and HeroXp <= 9000:\n",
    "  HeroLevel = 'Ascendente'\n",
    "  \n",
    "elif HeroXp > 9000 and HeroXp <= 10000:\n",
    "  HeroLevel = 'Imortal'\n",
    "  \n",
    "elif HeroXp > 10000:\n",
    "  HeroLevel = 'Radiante'\n",
    "else:\n",
    "  print('Comando inválido. Tente novamente.')\n",
    "\n",
    "print(f'O herói {HeroName} possui {HeroXp} pontos de experiência e está no nível {HeroLevel}!')"
   ]
  }
 ],
 "metadata": {
  "kernelspec": {
   "display_name": "Python 3",
   "language": "python",
   "name": "python3"
  },
  "language_info": {
   "codemirror_mode": {
    "name": "ipython",
    "version": 3
   },
   "file_extension": ".py",
   "mimetype": "text/x-python",
   "name": "python",
   "nbconvert_exporter": "python",
   "pygments_lexer": "ipython3",
   "version": "3.12.0"
  }
 },
 "nbformat": 4,
 "nbformat_minor": 2
}
